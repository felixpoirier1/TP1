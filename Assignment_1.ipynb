{
 "cells": [
  {
   "cell_type": "markdown",
   "id": "c5a54d2e-af0c-49a0-953e-5f8021925b76",
   "metadata": {},
   "source": [
    "# <span style=\"color:green\"> **Assignment 1: Simple Linear Regression**</span>"
   ]
  },
  {
   "cell_type": "markdown",
   "id": "6356f6cd-6742-4ef0-9471-675cec574173",
   "metadata": {},
   "source": [
    "## <span style=\"color:green\"> **Modules & Packages**</span>"
   ]
  },
  {
   "cell_type": "code",
   "execution_count": 13,
   "id": "b75bc5ce-b5b6-4154-8f7c-7b613932d3fb",
   "metadata": {},
   "outputs": [],
   "source": [
    "# Pandas: To manipulate DataFrames\n",
    "import pandas as pd\n",
    "# Seaborn & Matplotlib: To plot scatter plots\n",
    "import seaborn as sns\n",
    "import matplotlib.pyplot as plt\n",
    "# Statsmodels: To estimate our regression model\n",
    "import statsmodels.api as sm\n",
    "# Numpy: For mathematical computations\n",
    "import numpy as np"
   ]
  },
  {
   "cell_type": "markdown",
   "id": "feb9cb97-a38e-4cb6-b3e9-a9ce7e22844d",
   "metadata": {},
   "source": [
    "## <span style=\"color:green\"> **The Dataset**</span>\n",
    "Our final dataset will be the result of a concatenation between two columns that lie in two seperate sheets of an excel file. Below, we'll perform some manipulations to construct the desired dataset."
   ]
  },
  {
   "cell_type": "code",
   "execution_count": 2,
   "id": "1f3040d0-7556-4683-a634-940dbae7e0b1",
   "metadata": {},
   "outputs": [],
   "source": [
    "# Define a list containing the Excel sheet names\n",
    "sheet_titles = [\"US PMI\", \"China PMI\"]\n",
    "\n",
    "# Create an empty dictionary within which will be stored the original tables\n",
    "datasets = {}\n",
    "\n",
    "# Retrieve the tables from the Excel file and store them in the empty dictionary\n",
    "for title in sheet_titles:\n",
    "    dataset = pd.read_excel(\"PMI-Data.xlsx\", sheet_name = title, skiprows = range(5), usecols = 'A:D', index_col = 0)[::-1]\n",
    "    # Store the US and China tables in the \"datasets\" dictionary\n",
    "    datasets[title] = dataset\n",
    "\n",
    "# Rename columns of interest\n",
    "datasets[\"US PMI\"].rename(columns = {\"% Change\" : \"uspchange\"}, inplace = True)\n",
    "datasets[\"China PMI\"].rename(columns = {\"% Change\" : \"chipchange\"}, inplace = True)"
   ]
  },
  {
   "cell_type": "code",
   "execution_count": 3,
   "id": "c40f7490-546c-4007-9854-7c912bece099",
   "metadata": {},
   "outputs": [],
   "source": [
    "# Reset the index column of each dataset (remove dates)\n",
    "datasets[\"US PMI\"].reset_index(inplace = True)\n",
    "datasets[\"China PMI\"].reset_index(inplace = True)"
   ]
  },
  {
   "cell_type": "code",
   "execution_count": 5,
   "id": "2fc6c603-3a79-49eb-ba8a-07db762e88a7",
   "metadata": {},
   "outputs": [
    {
     "data": {
      "text/html": [
       "<div>\n",
       "<style scoped>\n",
       "    .dataframe tbody tr th:only-of-type {\n",
       "        vertical-align: middle;\n",
       "    }\n",
       "\n",
       "    .dataframe tbody tr th {\n",
       "        vertical-align: top;\n",
       "    }\n",
       "\n",
       "    .dataframe thead th {\n",
       "        text-align: right;\n",
       "    }\n",
       "</style>\n",
       "<table border=\"1\" class=\"dataframe\">\n",
       "  <thead>\n",
       "    <tr style=\"text-align: right;\">\n",
       "      <th></th>\n",
       "      <th>uspchange</th>\n",
       "      <th>chipchange</th>\n",
       "    </tr>\n",
       "  </thead>\n",
       "  <tbody>\n",
       "    <tr>\n",
       "      <th>1</th>\n",
       "      <td>0.194932</td>\n",
       "      <td>-0.809717</td>\n",
       "    </tr>\n",
       "    <tr>\n",
       "      <th>2</th>\n",
       "      <td>1.556420</td>\n",
       "      <td>2.448980</td>\n",
       "    </tr>\n",
       "    <tr>\n",
       "      <th>3</th>\n",
       "      <td>0.957854</td>\n",
       "      <td>-0.199203</td>\n",
       "    </tr>\n",
       "    <tr>\n",
       "      <th>4</th>\n",
       "      <td>-5.502846</td>\n",
       "      <td>0.000000</td>\n",
       "    </tr>\n",
       "    <tr>\n",
       "      <th>5</th>\n",
       "      <td>2.610442</td>\n",
       "      <td>-0.199601</td>\n",
       "    </tr>\n",
       "    <tr>\n",
       "      <th>...</th>\n",
       "      <td>...</td>\n",
       "      <td>...</td>\n",
       "    </tr>\n",
       "    <tr>\n",
       "      <th>72</th>\n",
       "      <td>-2.977233</td>\n",
       "      <td>-0.397614</td>\n",
       "    </tr>\n",
       "    <tr>\n",
       "      <th>73</th>\n",
       "      <td>1.263538</td>\n",
       "      <td>0.199601</td>\n",
       "    </tr>\n",
       "    <tr>\n",
       "      <th>74</th>\n",
       "      <td>-5.525847</td>\n",
       "      <td>-1.394422</td>\n",
       "    </tr>\n",
       "    <tr>\n",
       "      <th>75</th>\n",
       "      <td>-0.377358</td>\n",
       "      <td>-4.242424</td>\n",
       "    </tr>\n",
       "    <tr>\n",
       "      <th>76</th>\n",
       "      <td>0.000000</td>\n",
       "      <td>4.641350</td>\n",
       "    </tr>\n",
       "  </tbody>\n",
       "</table>\n",
       "<p>76 rows × 2 columns</p>\n",
       "</div>"
      ],
      "text/plain": [
       "    uspchange  chipchange\n",
       "1    0.194932   -0.809717\n",
       "2    1.556420    2.448980\n",
       "3    0.957854   -0.199203\n",
       "4   -5.502846    0.000000\n",
       "5    2.610442   -0.199601\n",
       "..        ...         ...\n",
       "72  -2.977233   -0.397614\n",
       "73   1.263538    0.199601\n",
       "74  -5.525847   -1.394422\n",
       "75  -0.377358   -4.242424\n",
       "76   0.000000    4.641350\n",
       "\n",
       "[76 rows x 2 columns]"
      ]
     },
     "execution_count": 5,
     "metadata": {},
     "output_type": "execute_result"
    }
   ],
   "source": [
    "# Concetenate the \"US_PMI % Change\" and \"China_PMI % Change\" columns to create the final dataset\n",
    "df = pd.concat([datasets[\"US PMI\"][\"uspchange\"], datasets[\"China PMI\"][\"chipchange\"]], axis = 1)\n",
    "\n",
    "# Remove missing values\n",
    "df.dropna(inplace = True)\n",
    "\n",
    "# Display final DataFrame\n",
    "df"
   ]
  },
  {
   "cell_type": "markdown",
   "id": "d1e59045-e5a2-4372-a52f-5e5a07866809",
   "metadata": {},
   "source": [
    "## <span style=\"color:green\"> **Summary Statistics & Visualization**</span>"
   ]
  },
  {
   "cell_type": "code",
   "execution_count": 6,
   "id": "60d5e186-3205-4932-a7d6-2534b039f3cd",
   "metadata": {},
   "outputs": [
    {
     "data": {
      "text/html": [
       "<div>\n",
       "<style scoped>\n",
       "    .dataframe tbody tr th:only-of-type {\n",
       "        vertical-align: middle;\n",
       "    }\n",
       "\n",
       "    .dataframe tbody tr th {\n",
       "        vertical-align: top;\n",
       "    }\n",
       "\n",
       "    .dataframe thead th {\n",
       "        text-align: right;\n",
       "    }\n",
       "</style>\n",
       "<table border=\"1\" class=\"dataframe\">\n",
       "  <thead>\n",
       "    <tr style=\"text-align: right;\">\n",
       "      <th></th>\n",
       "      <th>uspchange</th>\n",
       "      <th>chipchange</th>\n",
       "    </tr>\n",
       "  </thead>\n",
       "  <tbody>\n",
       "    <tr>\n",
       "      <th>count</th>\n",
       "      <td>76.000000</td>\n",
       "      <td>76.000000</td>\n",
       "    </tr>\n",
       "    <tr>\n",
       "      <th>mean</th>\n",
       "      <td>0.116612</td>\n",
       "      <td>0.186036</td>\n",
       "    </tr>\n",
       "    <tr>\n",
       "      <th>std</th>\n",
       "      <td>4.031510</td>\n",
       "      <td>6.345693</td>\n",
       "    </tr>\n",
       "    <tr>\n",
       "      <th>min</th>\n",
       "      <td>-15.274949</td>\n",
       "      <td>-28.600000</td>\n",
       "    </tr>\n",
       "    <tr>\n",
       "      <th>25%</th>\n",
       "      <td>-2.050543</td>\n",
       "      <td>-0.795672</td>\n",
       "    </tr>\n",
       "    <tr>\n",
       "      <th>50%</th>\n",
       "      <td>0.000000</td>\n",
       "      <td>-0.195887</td>\n",
       "    </tr>\n",
       "    <tr>\n",
       "      <th>75%</th>\n",
       "      <td>1.865993</td>\n",
       "      <td>0.586818</td>\n",
       "    </tr>\n",
       "    <tr>\n",
       "      <th>max</th>\n",
       "      <td>20.459770</td>\n",
       "      <td>45.658263</td>\n",
       "    </tr>\n",
       "  </tbody>\n",
       "</table>\n",
       "</div>"
      ],
      "text/plain": [
       "       uspchange  chipchange\n",
       "count  76.000000   76.000000\n",
       "mean    0.116612    0.186036\n",
       "std     4.031510    6.345693\n",
       "min   -15.274949  -28.600000\n",
       "25%    -2.050543   -0.795672\n",
       "50%     0.000000   -0.195887\n",
       "75%     1.865993    0.586818\n",
       "max    20.459770   45.658263"
      ]
     },
     "execution_count": 6,
     "metadata": {},
     "output_type": "execute_result"
    }
   ],
   "source": [
    "# Use the describe() method to find the mean, standard deviation, maximum and minimum of each variable\n",
    "df.describe()"
   ]
  },
  {
   "cell_type": "code",
   "execution_count": 8,
   "id": "b204fdbf-89a6-4710-b428-500aafe837c0",
   "metadata": {},
   "outputs": [
    {
     "data": {
      "text/plain": [
       "<AxesSubplot:title={'center':'Scatterplot: US PMI % Change vs. China PMI % Change'}, xlabel='chipchange', ylabel='uspchange'>"
      ]
     },
     "execution_count": 8,
     "metadata": {},
     "output_type": "execute_result"
    },
    {
     "data": {
      "image/png": "[encoded data removed]",
      "text/plain": [
       "<Figure size 432x288 with 1 Axes>"
      ]
     },
     "metadata": {
      "needs_background": "light"
     },
     "output_type": "display_data"
    }
   ],
   "source": [
    "# Display a scatter plot to get a feel for the relationship between both variables\n",
    "scatter_initial = sns.scatterplot(x = \"chipchange\", y = \"uspchange\", data = df)\n",
    "scatter_initial.set(title = \"Scatterplot: US PMI % Change vs. China PMI % Change\")\n",
    "scatter_initial"
   ]
  },
  {
   "cell_type": "markdown",
   "id": "4a8d165a-de4f-4725-ba6b-2909e3cd19fc",
   "metadata": {},
   "source": [
    "## <span style=\"color:green\"> **Simple OLS Regression**</span>"
   ]
  },
  {
   "cell_type": "code",
   "execution_count": 9,
   "id": "09a9c2d9-e134-477e-8bf6-7067a47b35f1",
   "metadata": {},
   "outputs": [
    {
     "name": "stderr",
     "output_type": "stream",
     "text": [
      "C:\\Users\\joelc\\anaconda3\\lib\\site-packages\\statsmodels\\tsa\\tsatools.py:142: FutureWarning: In a future version of pandas all arguments of concat except for the argument 'objs' will be keyword-only\n",
      "  x = pd.concat(x[::order], 1)\n"
     ]
    },
    {
     "data": {
      "text/html": [
       "<table class=\"simpletable\">\n",
       "<caption>OLS Regression Results</caption>\n",
       "<tr>\n",
       "  <th>Dep. Variable:</th>        <td>uspchange</td>    <th>  R-squared:         </th> <td>   0.201</td>\n",
       "</tr>\n",
       "<tr>\n",
       "  <th>Model:</th>                   <td>OLS</td>       <th>  Adj. R-squared:    </th> <td>   0.191</td>\n",
       "</tr>\n",
       "<tr>\n",
       "  <th>Method:</th>             <td>Least Squares</td>  <th>  F-statistic:       </th> <td>   18.67</td>\n",
       "</tr>\n",
       "<tr>\n",
       "  <th>Date:</th>             <td>Thu, 15 Sep 2022</td> <th>  Prob (F-statistic):</th> <td>4.77e-05</td>\n",
       "</tr>\n",
       "<tr>\n",
       "  <th>Time:</th>                 <td>13:12:07</td>     <th>  Log-Likelihood:    </th> <td> -204.74</td>\n",
       "</tr>\n",
       "<tr>\n",
       "  <th>No. Observations:</th>      <td>    76</td>      <th>  AIC:               </th> <td>   413.5</td>\n",
       "</tr>\n",
       "<tr>\n",
       "  <th>Df Residuals:</th>          <td>    74</td>      <th>  BIC:               </th> <td>   418.1</td>\n",
       "</tr>\n",
       "<tr>\n",
       "  <th>Df Model:</th>              <td>     1</td>      <th>                     </th>     <td> </td>   \n",
       "</tr>\n",
       "<tr>\n",
       "  <th>Covariance Type:</th>      <td>nonrobust</td>    <th>                     </th>     <td> </td>   \n",
       "</tr>\n",
       "</table>\n",
       "<table class=\"simpletable\">\n",
       "<tr>\n",
       "       <td></td>         <th>coef</th>     <th>std err</th>      <th>t</th>      <th>P>|t|</th>  <th>[0.025</th>    <th>0.975]</th>  \n",
       "</tr>\n",
       "<tr>\n",
       "  <th>const</th>      <td>    0.0636</td> <td>    0.416</td> <td>    0.153</td> <td> 0.879</td> <td>   -0.766</td> <td>    0.893</td>\n",
       "</tr>\n",
       "<tr>\n",
       "  <th>chipchange</th> <td>    0.2852</td> <td>    0.066</td> <td>    4.321</td> <td> 0.000</td> <td>    0.154</td> <td>    0.417</td>\n",
       "</tr>\n",
       "</table>\n",
       "<table class=\"simpletable\">\n",
       "<tr>\n",
       "  <th>Omnibus:</th>       <td>15.915</td> <th>  Durbin-Watson:     </th> <td>   2.300</td>\n",
       "</tr>\n",
       "<tr>\n",
       "  <th>Prob(Omnibus):</th> <td> 0.000</td> <th>  Jarque-Bera (JB):  </th> <td>  65.742</td>\n",
       "</tr>\n",
       "<tr>\n",
       "  <th>Skew:</th>          <td>-0.265</td> <th>  Prob(JB):          </th> <td>5.30e-15</td>\n",
       "</tr>\n",
       "<tr>\n",
       "  <th>Kurtosis:</th>      <td> 7.525</td> <th>  Cond. No.          </th> <td>    6.31</td>\n",
       "</tr>\n",
       "</table><br/><br/>Notes:<br/>[1] Standard Errors assume that the covariance matrix of the errors is correctly specified."
      ],
      "text/plain": [
       "<class 'statsmodels.iolib.summary.Summary'>\n",
       "\"\"\"\n",
       "                            OLS Regression Results                            \n",
       "==============================================================================\n",
       "Dep. Variable:              uspchange   R-squared:                       0.201\n",
       "Model:                            OLS   Adj. R-squared:                  0.191\n",
       "Method:                 Least Squares   F-statistic:                     18.67\n",
       "Date:                Thu, 15 Sep 2022   Prob (F-statistic):           4.77e-05\n",
       "Time:                        13:12:07   Log-Likelihood:                -204.74\n",
       "No. Observations:                  76   AIC:                             413.5\n",
       "Df Residuals:                      74   BIC:                             418.1\n",
       "Df Model:                           1                                         \n",
       "Covariance Type:            nonrobust                                         \n",
       "==============================================================================\n",
       "                 coef    std err          t      P>|t|      [0.025      0.975]\n",
       "------------------------------------------------------------------------------\n",
       "const          0.0636      0.416      0.153      0.879      -0.766       0.893\n",
       "chipchange     0.2852      0.066      4.321      0.000       0.154       0.417\n",
       "==============================================================================\n",
       "Omnibus:                       15.915   Durbin-Watson:                   2.300\n",
       "Prob(Omnibus):                  0.000   Jarque-Bera (JB):               65.742\n",
       "Skew:                          -0.265   Prob(JB):                     5.30e-15\n",
       "Kurtosis:                       7.525   Cond. No.                         6.31\n",
       "==============================================================================\n",
       "\n",
       "Notes:\n",
       "[1] Standard Errors assume that the covariance matrix of the errors is correctly specified.\n",
       "\"\"\""
      ]
     },
     "execution_count": 9,
     "metadata": {},
     "output_type": "execute_result"
    }
   ],
   "source": [
    "# Define dependant (y) and independent (x) variables\n",
    "x = df[\"chipchange\"]\n",
    "y = df[\"uspchange\"]\n",
    "\n",
    "# Add a constant to the predictor variable (intercept)\n",
    "x = sm.add_constant(x)\n",
    "\n",
    "# Fit the OLS model to the sample data\n",
    "model_ols = sm.OLS(y, x).fit()\n",
    "\n",
    "# View model summary (intercept, coefficient, r-squared)\n",
    "model_ols.summary()"
   ]
  },
  {
   "cell_type": "markdown",
   "id": "0b5f6361-efe4-4a57-b84d-fcca84c5453c",
   "metadata": {},
   "source": [
    "> **Estimated model**: ``uspchange = 0.064 + 0.285 * chipchange``"
   ]
  }
 ],
 "metadata": {
  "kernelspec": {
   "display_name": "Python 3 (ipykernel)",
   "language": "python",
   "name": "python3"
  },
  "language_info": {
   "codemirror_mode": {
    "name": "ipython",
    "version": 3
   },
   "file_extension": ".py",
   "mimetype": "text/x-python",
   "name": "python",
   "nbconvert_exporter": "python",
   "pygments_lexer": "ipython3",
   "version": "3.9.7"
  }
 },
 "nbformat": 4,
 "nbformat_minor": 5
}
